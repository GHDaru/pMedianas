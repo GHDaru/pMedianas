{
 "cells": [
  {
   "cell_type": "markdown",
   "metadata": {},
   "source": [
    "### Python Code to solve p-medians problem\n",
    "### Author: Gilsiley Henrique Darú"
   ]
  },
  {
   "cell_type": "code",
   "execution_count": 3,
   "metadata": {},
   "outputs": [],
   "source": [
    "#libraries\n",
    "#pandas to dataframes\n",
    "#numpy to arrays\n",
    "#matplotlib and seaborn to graphics\n",
    "#pulp to linear programmin\n",
    "import pandas as pd\n",
    "import numpy as np\n",
    "import matplotlib.pyplot as plt\n",
    "import matplotlib as mpl\n",
    "import seaborn as sbn\n",
    "import pulp as plp"
   ]
  },
  {
   "cell_type": "code",
   "execution_count": 32,
   "metadata": {},
   "outputs": [],
   "source": [
    "#Class with problems data\n",
    "class pMedianProblem():\n",
    "    def __init__(self):\n",
    "        #Create a dataframe to save problem data\n",
    "        self.data = pd.DataFrame(columns=['x','y','weight'])\n",
    "    \n",
    "    def generate_random_problem(self, size = 100, weighted = False):\n",
    "        #Create a random problem with size points and two coordinates (x,y)\n",
    "        #the random values ~N(0,1)\n",
    "        np.random.seed(10) #necessary to replicate simulation\n",
    "        x = np.random.randn(size)\n",
    "        y = np.random.randn(size)\n",
    "        self.data['x'] = x\n",
    "        self.data['y'] = y\n",
    "        #generate random weigths ~N(0,1)\n",
    "        self.data['weight'] = np.random.randn(size) if weighted else 1 \n",
    "#Class to store a solution\n",
    "class pMedianSolution():\n",
    "    def __init__(self, problem, p=3):\n",
    "        self.data = pd.DataFrame(columns=['x','y','weight','cluster','isMedian','distance'])\n",
    "        self.data = self.data.append(problem.data)\n",
    "        self.data['cluster'] = -1\n",
    "        self.data['distance'] = -1\n",
    "        self.data['isMedian']=False\n",
    "        self.p = p\n",
    "    \n",
    "    def medians(self):\n",
    "        return self.data[self.data.isMedian==1]\n",
    "    \n",
    "    def objective(self):\n",
    "        return np.sqrt(self.data.distance).sum()\n",
    "\n",
    "#Class to solve a p-median problem  \n",
    "class pMedianSolver():\n",
    "    def __init__(self, problem, weighted = False):\n",
    "        np.random.seed(123)\n",
    "        self.problem = problem\n",
    "        self.weighted = weighted\n",
    "                \n",
    "    def plot(self, solution, title = ''):\n",
    "        df = solution.data\n",
    "        objective = 'Objective {:.2f}'.format(solution.objective())\n",
    "        p = sbn.scatterplot(x = df.x, y=df.y, hue = df.cluster, size = (df.isMedian+1), palette = 'Dark2')\n",
    "        #fonte: https://stackoverflow.com/questions/53437462/how-do-i-remove-an-attribute-from-the-legend-of-a-scatter-plot\n",
    "        # EXTRACT CURRENT HANDLES AND LABELS\n",
    "        h,l = p.get_legend_handles_labels()\n",
    "        # COLOR LEGEND (FIRST 30 ITEMS)\n",
    "        col_lgd = plt.legend(h[:4], l[:4], loc='upper left')\n",
    "        # ADD FORMER (OVERWRITTEN BY LATTER)\n",
    "        p.add_artist(col_lgd)\n",
    "        p.set_title(title + \":\" + objective)\n",
    "        \n",
    "        \n",
    "    def Heuristic01(self, p = 3):\n",
    "        self.actual_solution = pMedianSolution(self.problem, p)\n",
    "        #The first p elements is set to median\n",
    "        self.actual_solution.data.iloc[:p,-2] = True\n",
    "        self.actual_solution.data.iloc[:p,-3]=np.arange(p)\n",
    "        self.index_medians = list(range(p))\n",
    "        for i in range(p):\n",
    "            x_median = self.actual_solution.data.iloc[self.index_medians[i],0]    \n",
    "            y_median = self.actual_solution.data.iloc[self.index_medians[i],1]\n",
    "            #print(i, x_median,y_median)\n",
    "            self.actual_solution.data['distance_temp'] = ((self.actual_solution.data.x - x_median)**2 + (self.actual_solution.data.y-y_median)**2)\n",
    "            self.actual_solution.data['cluster'] = self.actual_solution.data.apply(\n",
    "                lambda row: i if (row.distance==-1)|(row.distance_temp<row.distance) else row.cluster, axis=1)\n",
    "            self.actual_solution.data['distance'] = self.actual_solution.data.apply(\n",
    "                lambda row: row.distance_temp if (row.distance==-1)|(row.distance_temp<row.distance) else row.distance, axis=1)   \n",
    "    \n",
    "    def OptimalSolution(self, p = 3):\n",
    "        #parameters\n",
    "        #p is the number of medians\n",
    "        #Create a linear programming variable\n",
    "        opt_model = plp.LpProblem(name=\"p-Medianas\", sense = plp.LpMinimize)\n",
    "        dict_var = {'Nome':[],'Objeto':[]}\n",
    "        #Y is medians point\n",
    "        #Generate Y variables\n",
    "        Y = []\n",
    "        for i in range(self.problem.data.shape[0]):\n",
    "            name = \"Y_\"+str(i)\n",
    "            Y.append(plp.LpVariable(name,0,1,plp.LpInteger))\n",
    "        #Generate alocation variables X and distance matrix D \n",
    "        pontos = self.problem.data.shape[0]\n",
    "        D = np.zeros([pontos,pontos])\n",
    "        X = []\n",
    "        for i in range(self.problem.data.shape[0]):\n",
    "            lin = []\n",
    "            for j in range(self.problem.data.shape[0]):\n",
    "                name = \"X[{}][{}]\".format(i,j)\n",
    "                lin.append(plp.LpVariable(name,0,1,plp.LpInteger))\n",
    "                D[i,j] = np.sqrt((self.problem.data.iloc[i,0]-self.problem.data.iloc[j,0])**2 \n",
    "                                 + (self.problem.data.iloc[i,1]-self.problem.data.iloc[j,1])**2)\n",
    "            X.append(lin)\n",
    "        #Generate objective function\n",
    "        opt_model += plp.lpSum( [D[i,j]*X[i][j] for i in range(pontos) for j in range(pontos)])\n",
    "        #Restriction number of medians\n",
    "        opt_model += plp.lpSum([Y[i] for i in range(pontos)]) == p, \"Num Medianas\"\n",
    "        #Criação de que cada X só pode ser alocado a uma mediana\n",
    "        for i in range(pontos):\n",
    "            opt_model += plp.lpSum([X[i][j] for j in range(pontos)]) == 1, \"Aloc Ponto \" + str(i)\n",
    "        #Restrição que só se pode selecionar nos pontos que são medianas\n",
    "        for i in range(pontos):\n",
    "            for j in range(pontos):\n",
    "                opt_model += X[i][j] <= Y[j] , \"X[{}][{}]\".format(i,j)\n",
    "        opt_model.writeLP(\"pMedianas.lp\")\n",
    "        opt_model.solve()\n",
    "        return opt_model\n",
    "        \n"
   ]
  },
  {
   "cell_type": "markdown",
   "metadata": {},
   "source": [
    "###  How to use\n",
    "* Instantiate a variable pMedianProblem \n",
    "* Load(not implemented) or generate a random problem using variable.generate_random_problem(size)\n",
    "* Create a variable pMedianSolver and pass problem\n",
    "* Run a solver Heuristic or Optimal, inform number of medians\n",
    "* Plot results"
   ]
  },
  {
   "cell_type": "code",
   "execution_count": 35,
   "metadata": {},
   "outputs": [
    {
     "data": {
      "image/png": "[encoded data removed]",
      "text/plain": [
       "<Figure size 432x288 with 1 Axes>"
      ]
     },
     "metadata": {
      "needs_background": "light"
     },
     "output_type": "display_data"
    }
   ],
   "source": [
    "problem = pMedianProblem()\n",
    "problem.generate_random_problem()\n",
    "solver = pMedianSolver(problem)\n",
    "solver.Heuristic01(p=3)\n",
    "solver.plot(solver.actual_solution, \"Heuristic01\")"
   ]
  },
  {
   "cell_type": "code",
   "execution_count": 26,
   "metadata": {},
   "outputs": [
    {
     "data": {
      "text/html": [
       "<div>\n",
       "<style scoped>\n",
       "    .dataframe tbody tr th:only-of-type {\n",
       "        vertical-align: middle;\n",
       "    }\n",
       "\n",
       "    .dataframe tbody tr th {\n",
       "        vertical-align: top;\n",
       "    }\n",
       "\n",
       "    .dataframe thead th {\n",
       "        text-align: right;\n",
       "    }\n",
       "</style>\n",
       "<table border=\"1\" class=\"dataframe\">\n",
       "  <thead>\n",
       "    <tr style=\"text-align: right;\">\n",
       "      <th></th>\n",
       "      <th>x</th>\n",
       "      <th>y</th>\n",
       "      <th>weight</th>\n",
       "      <th>cluster</th>\n",
       "      <th>isMedian</th>\n",
       "      <th>distance</th>\n",
       "      <th>distance_temp</th>\n",
       "    </tr>\n",
       "  </thead>\n",
       "  <tbody>\n",
       "    <tr>\n",
       "      <th>0</th>\n",
       "      <td>1.331587</td>\n",
       "      <td>0.117476</td>\n",
       "      <td>1</td>\n",
       "      <td>0</td>\n",
       "      <td>True</td>\n",
       "      <td>0.000000</td>\n",
       "      <td>9.359454</td>\n",
       "    </tr>\n",
       "    <tr>\n",
       "      <th>1</th>\n",
       "      <td>0.715279</td>\n",
       "      <td>-1.907457</td>\n",
       "      <td>1</td>\n",
       "      <td>1</td>\n",
       "      <td>True</td>\n",
       "      <td>0.000000</td>\n",
       "      <td>6.080005</td>\n",
       "    </tr>\n",
       "    <tr>\n",
       "      <th>2</th>\n",
       "      <td>-1.545400</td>\n",
       "      <td>-0.922909</td>\n",
       "      <td>1</td>\n",
       "      <td>2</td>\n",
       "      <td>True</td>\n",
       "      <td>0.000000</td>\n",
       "      <td>0.000000</td>\n",
       "    </tr>\n",
       "    <tr>\n",
       "      <th>3</th>\n",
       "      <td>-0.008384</td>\n",
       "      <td>0.469751</td>\n",
       "      <td>1</td>\n",
       "      <td>0</td>\n",
       "      <td>False</td>\n",
       "      <td>1.919619</td>\n",
       "      <td>4.301923</td>\n",
       "    </tr>\n",
       "    <tr>\n",
       "      <th>4</th>\n",
       "      <td>0.621336</td>\n",
       "      <td>-0.144367</td>\n",
       "      <td>1</td>\n",
       "      <td>0</td>\n",
       "      <td>False</td>\n",
       "      <td>0.573017</td>\n",
       "      <td>5.300874</td>\n",
       "    </tr>\n",
       "    <tr>\n",
       "      <th>...</th>\n",
       "      <td>...</td>\n",
       "      <td>...</td>\n",
       "      <td>...</td>\n",
       "      <td>...</td>\n",
       "      <td>...</td>\n",
       "      <td>...</td>\n",
       "      <td>...</td>\n",
       "    </tr>\n",
       "    <tr>\n",
       "      <th>95</th>\n",
       "      <td>0.918269</td>\n",
       "      <td>1.255174</td>\n",
       "      <td>1</td>\n",
       "      <td>0</td>\n",
       "      <td>False</td>\n",
       "      <td>1.465188</td>\n",
       "      <td>10.813713</td>\n",
       "    </tr>\n",
       "    <tr>\n",
       "      <th>96</th>\n",
       "      <td>-0.482093</td>\n",
       "      <td>0.947126</td>\n",
       "      <td>1</td>\n",
       "      <td>0</td>\n",
       "      <td>False</td>\n",
       "      <td>3.977754</td>\n",
       "      <td>4.627654</td>\n",
       "    </tr>\n",
       "    <tr>\n",
       "      <th>97</th>\n",
       "      <td>0.089588</td>\n",
       "      <td>-1.022311</td>\n",
       "      <td>1</td>\n",
       "      <td>1</td>\n",
       "      <td>False</td>\n",
       "      <td>1.174973</td>\n",
       "      <td>2.683066</td>\n",
       "    </tr>\n",
       "    <tr>\n",
       "      <th>98</th>\n",
       "      <td>0.826999</td>\n",
       "      <td>1.167168</td>\n",
       "      <td>1</td>\n",
       "      <td>0</td>\n",
       "      <td>False</td>\n",
       "      <td>1.356464</td>\n",
       "      <td>9.996701</td>\n",
       "    </tr>\n",
       "    <tr>\n",
       "      <th>99</th>\n",
       "      <td>-1.954512</td>\n",
       "      <td>-0.571977</td>\n",
       "      <td>1</td>\n",
       "      <td>2</td>\n",
       "      <td>False</td>\n",
       "      <td>0.290526</td>\n",
       "      <td>0.290526</td>\n",
       "    </tr>\n",
       "  </tbody>\n",
       "</table>\n",
       "<p>100 rows × 7 columns</p>\n",
       "</div>"
      ],
      "text/plain": [
       "           x         y weight  cluster  isMedian  distance  distance_temp\n",
       "0   1.331587  0.117476      1        0      True  0.000000       9.359454\n",
       "1   0.715279 -1.907457      1        1      True  0.000000       6.080005\n",
       "2  -1.545400 -0.922909      1        2      True  0.000000       0.000000\n",
       "3  -0.008384  0.469751      1        0     False  1.919619       4.301923\n",
       "4   0.621336 -0.144367      1        0     False  0.573017       5.300874\n",
       "..       ...       ...    ...      ...       ...       ...            ...\n",
       "95  0.918269  1.255174      1        0     False  1.465188      10.813713\n",
       "96 -0.482093  0.947126      1        0     False  3.977754       4.627654\n",
       "97  0.089588 -1.022311      1        1     False  1.174973       2.683066\n",
       "98  0.826999  1.167168      1        0     False  1.356464       9.996701\n",
       "99 -1.954512 -0.571977      1        2     False  0.290526       0.290526\n",
       "\n",
       "[100 rows x 7 columns]"
      ]
     },
     "execution_count": 26,
     "metadata": {},
     "output_type": "execute_result"
    }
   ],
   "source": [
    "solver.actual_solution.data"
   ]
  },
  {
   "cell_type": "code",
   "execution_count": 12,
   "metadata": {},
   "outputs": [
    {
     "data": {
      "image/png": "[encoded data removed]",
      "text/plain": [
       "<Figure size 432x288 with 1 Axes>"
      ]
     },
     "metadata": {
      "needs_background": "light"
     },
     "output_type": "display_data"
    }
   ],
   "source": [
    "#import seaborn as sns\n",
    "#current_palette = sns.color_palette()\n",
    "#sns.palplot(current_palette)\n",
    "#sns.set_palette(\"husl\")\n",
    "x = pMedianSolver()\n",
    "x.problem.generate_random_problem()\n",
    "x.Heuristic01()\n",
    "#x.generate_random_problem(weighted = True)\n",
    "#sbn.scatterplot(x=x.data.x, y=x.data.y, hue=x.data.weight )\n",
    "x.plot(x.actual_solution)\n",
    "#(x.actual_solution.data.x -2)**2\n",
    "#x_m = 1.0\n",
    "#(x.actual_solution.data.x - x_m)**2 #+ (x.actual_solution.data.y-y)**2\n",
    "#del df\n",
    "#'{:.2f}'.format(np.sqrt(x.actual_solution.data.distance).sum())\n"
   ]
  },
  {
   "cell_type": "code",
   "execution_count": 80,
   "metadata": {},
   "outputs": [
    {
     "data": {
      "text/plain": [
       "281.49312151106443"
      ]
     },
     "execution_count": 80,
     "metadata": {},
     "output_type": "execute_result"
    }
   ],
   "source": [
    "x.actual_solution"
   ]
  },
  {
   "cell_type": "code",
   "execution_count": 128,
   "metadata": {},
   "outputs": [
    {
     "data": {
      "text/plain": [
       "1"
      ]
     },
     "execution_count": 128,
     "metadata": {},
     "output_type": "execute_result"
    }
   ],
   "source": [
    "opt_model = plp.LpProblem(name=\"p-Medianas\", sense = plp.LpMinimize)\n",
    "dict_var = {'Nome':[],'Objeto':[]}\n",
    "#Pontos Mediana Y\n",
    "Y = []\n",
    "for i in range(x.problem.data.shape[0]):\n",
    "    name = \"Y_\"+str(i)\n",
    "    Y.append(plp.LpVariable(name,0,1,plp.LpInteger))\n",
    "#Alocação dos pontos as medianas\n",
    "pontos = x.problem.data.shape[0]\n",
    "D = np.zeros([pontos,pontos])\n",
    "X = []\n",
    "for i in range(x.problem.data.shape[0]):\n",
    "    lin = []\n",
    "    for j in range(x.problem.data.shape[0]):\n",
    "        name = \"X[{}][{}]\".format(i,j)\n",
    "        lin.append(plp.LpVariable(name,0,1,plp.LpInteger))\n",
    "        D[i,j] = np.sqrt((x.problem.data.iloc[i,0]-x.problem.data.iloc[j,0])**2 \n",
    "                         + (x.problem.data.iloc[i,1]-x.problem.data.iloc[j,1])**2)\n",
    "    X.append(lin)\n",
    "#Criação da função objetivo\n",
    "opt_model += plp.lpSum( [D[i,j]*X[i][j] for i in range(pontos) for j in range(pontos)])\n",
    "#Criação da Restrição do número de medianas\n",
    "opt_model += plp.lpSum([Y[i] for i in range(pontos)]) == 3, \"Num Medianas\"\n",
    "#Criação de que cada X só pode ser alocado a uma mediana\n",
    "for i in range(pontos):\n",
    "    opt_model += plp.lpSum([X[i][j] for j in range(pontos)]) == 1, \"Aloc Ponto \" + str(i)\n",
    "#Restrição que só se pode selecionar nos pontos que são medianas\n",
    "for i in range(pontos):\n",
    "    for j in range(pontos):\n",
    "        opt_model += X[i][j] <= Y[j] , \"X[{}][{}]\".format(i,j)\n",
    "opt_model.writeLP(\"pMedianas.lp\")\n",
    "opt_model.solve()"
   ]
  },
  {
   "cell_type": "code",
   "execution_count": 8,
   "metadata": {},
   "outputs": [
    {
     "ename": "AttributeError",
     "evalue": "'pMedianSolver' object has no attribute 'actual_solution'",
     "output_type": "error",
     "traceback": [
      "\u001b[1;31m---------------------------------------------------------------------------\u001b[0m",
      "\u001b[1;31mAttributeError\u001b[0m                            Traceback (most recent call last)",
      "\u001b[1;32m<ipython-input-8-f6570fb39330>\u001b[0m in \u001b[0;36m<module>\u001b[1;34m\u001b[0m\n\u001b[0;32m      6\u001b[0m \u001b[0mopt_model\u001b[0m \u001b[1;33m=\u001b[0m \u001b[0mx\u001b[0m\u001b[1;33m.\u001b[0m\u001b[0mOptimalSolution\u001b[0m\u001b[1;33m(\u001b[0m\u001b[1;33m)\u001b[0m\u001b[1;33m\u001b[0m\u001b[1;33m\u001b[0m\u001b[0m\n\u001b[0;32m      7\u001b[0m \u001b[1;32mimport\u001b[0m \u001b[0mre\u001b[0m\u001b[1;33m\u001b[0m\u001b[1;33m\u001b[0m\u001b[0m\n\u001b[1;32m----> 8\u001b[1;33m \u001b[0mx\u001b[0m\u001b[1;33m.\u001b[0m\u001b[0mactual_solution\u001b[0m\u001b[1;33m.\u001b[0m\u001b[0mdata\u001b[0m\u001b[1;33m[\u001b[0m\u001b[1;34m'isMedian'\u001b[0m\u001b[1;33m]\u001b[0m\u001b[1;33m=\u001b[0m\u001b[1;32mFalse\u001b[0m\u001b[1;33m\u001b[0m\u001b[1;33m\u001b[0m\u001b[0m\n\u001b[0m\u001b[0;32m      9\u001b[0m \u001b[0mx\u001b[0m\u001b[1;33m.\u001b[0m\u001b[0mactual_solution\u001b[0m\u001b[1;33m.\u001b[0m\u001b[0mdata\u001b[0m\u001b[1;33m[\u001b[0m\u001b[1;34m'cluster'\u001b[0m\u001b[1;33m]\u001b[0m\u001b[1;33m=\u001b[0m\u001b[1;33m-\u001b[0m\u001b[1;36m1\u001b[0m\u001b[1;33m\u001b[0m\u001b[1;33m\u001b[0m\u001b[0m\n\u001b[0;32m     10\u001b[0m \u001b[1;32mfor\u001b[0m \u001b[0mv\u001b[0m \u001b[1;32min\u001b[0m \u001b[0mopt_model\u001b[0m\u001b[1;33m.\u001b[0m\u001b[0mvariables\u001b[0m\u001b[1;33m(\u001b[0m\u001b[1;33m)\u001b[0m\u001b[1;33m:\u001b[0m\u001b[1;33m\u001b[0m\u001b[1;33m\u001b[0m\u001b[0m\n",
      "\u001b[1;31mAttributeError\u001b[0m: 'pMedianSolver' object has no attribute 'actual_solution'"
     ]
    }
   ],
   "source": [
    "#print(\"Status:\", plp.LpStatus[opt_model.status])\n",
    "#print('Objetivo', opt_model.objective)\n",
    "#encontrando as medianas\n",
    "x = pMedianSolver()\n",
    "x.problem.generate_random_problem()\n",
    "opt_model = x.OptimalSolution()\n",
    "import re\n",
    "x.actual_solution.data['isMedian']=False\n",
    "x.actual_solution.data['cluster']=-1\n",
    "for v in opt_model.variables():\n",
    "    if v.varValue >= 0.9:\n",
    "        #print(v.name, \"=\", v.varValue)\n",
    "        coord = re.findall(r'(\\d+)',v.name)\n",
    "        if v.name[0]=='Y': #isMedian\n",
    "            x.actual_solution.data.loc[int(coord[0]),'isMedian']=True\n",
    "        else:\n",
    "            x.actual_solution.data.loc[int(coord[0]),'cluster'] = int(coord[1])\n",
    "            x.actual_solution.data.loc[int(coord[0]),'distance'] = D[int(coord[0]),int(coord[1])] \n",
    "        \n",
    "#print(\"Lucro = \", plp.value(opt_model.objective))\n"
   ]
  },
  {
   "cell_type": "code",
   "execution_count": 130,
   "metadata": {},
   "outputs": [
    {
     "data": {
      "image/png": "[encoded data removed]",
      "text/plain": [
       "<Figure size 432x288 with 1 Axes>"
      ]
     },
     "metadata": {
      "needs_background": "light"
     },
     "output_type": "display_data"
    }
   ],
   "source": [
    "x.plot(x.actual_solution)\n"
   ]
  }
 ],
 "metadata": {
  "kernelspec": {
   "display_name": "Python 3",
   "language": "python",
   "name": "python3"
  },
  "language_info": {
   "codemirror_mode": {
    "name": "ipython",
    "version": 3
   },
   "file_extension": ".py",
   "mimetype": "text/x-python",
   "name": "python",
   "nbconvert_exporter": "python",
   "pygments_lexer": "ipython3",
   "version": "3.7.6"
  }
 },
 "nbformat": 4,
 "nbformat_minor": 4
}
